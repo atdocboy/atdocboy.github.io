{
 "cells": [
  {
   "cell_type": "markdown",
   "metadata": {},
   "source": [
    "# Simple Forecasting Methods\n",
    "=============================================="
   ]
  },
  {
   "cell_type": "markdown",
   "metadata": {},
   "source": [
    "In this notebook we document some simple forecasting techniques that are used to generate a prediction of future trends in Time Series. This notebook will demonstrate techniques like:\n",
    "- Naive Forecasting\n",
    "- Average Method\n",
    "- Drift Method\n",
    "-------------------------------\n"
   ]
  },
  {
   "cell_type": "markdown",
   "metadata": {},
   "source": [
    "### Note: Data for AAPL stock has been taken. \n",
    "\n",
    "We take a quick look at the structure of the data."
   ]
  },
  {
   "cell_type": "code",
   "execution_count": 1,
   "metadata": {},
   "outputs": [],
   "source": [
    "library(ggplot2)\n",
    "library(repr)"
   ]
  },
  {
   "cell_type": "code",
   "execution_count": 2,
   "metadata": {},
   "outputs": [
    {
     "data": {
      "text/html": [
       "<table>\n",
       "<thead><tr><th scope=col>Date</th><th scope=col>Open</th><th scope=col>High</th><th scope=col>Low</th><th scope=col>Close</th><th scope=col>Adj.Close</th><th scope=col>Volume</th></tr></thead>\n",
       "<tbody>\n",
       "\t<tr><td>2019-02-13</td><td>171.39    </td><td>172.48    </td><td>169.92    </td><td>170.18    </td><td>169.5271  </td><td>22490200  </td></tr>\n",
       "\t<tr><td>2019-02-14</td><td>169.71    </td><td>171.26    </td><td>169.38    </td><td>170.80    </td><td>170.1448  </td><td>21835700  </td></tr>\n",
       "\t<tr><td>2019-02-15</td><td>171.25    </td><td>171.70    </td><td>169.75    </td><td>170.42    </td><td>169.7662  </td><td>24626800  </td></tr>\n",
       "\t<tr><td>2019-02-19</td><td>169.71    </td><td>171.44    </td><td>169.49    </td><td>170.93    </td><td>170.2743  </td><td>18972800  </td></tr>\n",
       "\t<tr><td>2019-02-20</td><td>171.19    </td><td>173.32    </td><td>170.99    </td><td>172.03    </td><td>171.3701  </td><td>26114400  </td></tr>\n",
       "\t<tr><td>2019-02-21</td><td>171.80    </td><td>172.37    </td><td>170.30    </td><td>171.06    </td><td>170.4038  </td><td>17249700  </td></tr>\n",
       "</tbody>\n",
       "</table>\n"
      ],
      "text/latex": [
       "\\begin{tabular}{r|lllllll}\n",
       " Date & Open & High & Low & Close & Adj.Close & Volume\\\\\n",
       "\\hline\n",
       "\t 2019-02-13 & 171.39     & 172.48     & 169.92     & 170.18     & 169.5271   & 22490200  \\\\\n",
       "\t 2019-02-14 & 169.71     & 171.26     & 169.38     & 170.80     & 170.1448   & 21835700  \\\\\n",
       "\t 2019-02-15 & 171.25     & 171.70     & 169.75     & 170.42     & 169.7662   & 24626800  \\\\\n",
       "\t 2019-02-19 & 169.71     & 171.44     & 169.49     & 170.93     & 170.2743   & 18972800  \\\\\n",
       "\t 2019-02-20 & 171.19     & 173.32     & 170.99     & 172.03     & 171.3701   & 26114400  \\\\\n",
       "\t 2019-02-21 & 171.80     & 172.37     & 170.30     & 171.06     & 170.4038   & 17249700  \\\\\n",
       "\\end{tabular}\n"
      ],
      "text/markdown": [
       "\n",
       "Date | Open | High | Low | Close | Adj.Close | Volume | \n",
       "|---|---|---|---|---|---|\n",
       "| 2019-02-13 | 171.39     | 172.48     | 169.92     | 170.18     | 169.5271   | 22490200   | \n",
       "| 2019-02-14 | 169.71     | 171.26     | 169.38     | 170.80     | 170.1448   | 21835700   | \n",
       "| 2019-02-15 | 171.25     | 171.70     | 169.75     | 170.42     | 169.7662   | 24626800   | \n",
       "| 2019-02-19 | 169.71     | 171.44     | 169.49     | 170.93     | 170.2743   | 18972800   | \n",
       "| 2019-02-20 | 171.19     | 173.32     | 170.99     | 172.03     | 171.3701   | 26114400   | \n",
       "| 2019-02-21 | 171.80     | 172.37     | 170.30     | 171.06     | 170.4038   | 17249700   | \n",
       "\n",
       "\n"
      ],
      "text/plain": [
       "  Date       Open   High   Low    Close  Adj.Close Volume  \n",
       "1 2019-02-13 171.39 172.48 169.92 170.18 169.5271  22490200\n",
       "2 2019-02-14 169.71 171.26 169.38 170.80 170.1448  21835700\n",
       "3 2019-02-15 171.25 171.70 169.75 170.42 169.7662  24626800\n",
       "4 2019-02-19 169.71 171.44 169.49 170.93 170.2743  18972800\n",
       "5 2019-02-20 171.19 173.32 170.99 172.03 171.3701  26114400\n",
       "6 2019-02-21 171.80 172.37 170.30 171.06 170.4038  17249700"
      ]
     },
     "metadata": {},
     "output_type": "display_data"
    }
   ],
   "source": [
    "AAPL <- read.csv(file=\"/home/docboy/Desktop/5th Year/Jupyter Notebooks/nb_data/AAPL.csv\")\n",
    "head(AAPL)"
   ]
  },
  {
   "cell_type": "code",
   "execution_count": 3,
   "metadata": {
    "code_folding": []
   },
   "outputs": [
    {
     "data": {
      "text/html": [
       "60"
      ],
      "text/latex": [
       "60"
      ],
      "text/markdown": [
       "60"
      ],
      "text/plain": [
       "[1] 60"
      ]
     },
     "metadata": {},
     "output_type": "display_data"
    }
   ],
   "source": [
    "length(AAPL[,1])"
   ]
  },
  {
   "cell_type": "markdown",
   "metadata": {},
   "source": [
    "---------------------------------"
   ]
  },
  {
   "cell_type": "markdown",
   "metadata": {},
   "source": [
    "The data taken has a total of 60 data points. We will only consider the closing price for AAPL as our input time series. We now extract the \"Close\" column from the data and plot it."
   ]
  },
  {
   "cell_type": "code",
   "execution_count": 4,
   "metadata": {
    "scrolled": true
   },
   "outputs": [
    {
     "data": {
      "text/html": [
       "<table>\n",
       "<thead><tr><th scope=col>Date</th><th scope=col>Close</th></tr></thead>\n",
       "<tbody>\n",
       "\t<tr><td>2019-02-13</td><td>170.18    </td></tr>\n",
       "\t<tr><td>2019-02-14</td><td>170.80    </td></tr>\n",
       "\t<tr><td>2019-02-15</td><td>170.42    </td></tr>\n",
       "\t<tr><td>2019-02-19</td><td>170.93    </td></tr>\n",
       "\t<tr><td>2019-02-20</td><td>172.03    </td></tr>\n",
       "\t<tr><td>2019-02-21</td><td>171.06    </td></tr>\n",
       "</tbody>\n",
       "</table>\n"
      ],
      "text/latex": [
       "\\begin{tabular}{r|ll}\n",
       " Date & Close\\\\\n",
       "\\hline\n",
       "\t 2019-02-13 & 170.18    \\\\\n",
       "\t 2019-02-14 & 170.80    \\\\\n",
       "\t 2019-02-15 & 170.42    \\\\\n",
       "\t 2019-02-19 & 170.93    \\\\\n",
       "\t 2019-02-20 & 172.03    \\\\\n",
       "\t 2019-02-21 & 171.06    \\\\\n",
       "\\end{tabular}\n"
      ],
      "text/markdown": [
       "\n",
       "Date | Close | \n",
       "|---|---|---|---|---|---|\n",
       "| 2019-02-13 | 170.18     | \n",
       "| 2019-02-14 | 170.80     | \n",
       "| 2019-02-15 | 170.42     | \n",
       "| 2019-02-19 | 170.93     | \n",
       "| 2019-02-20 | 172.03     | \n",
       "| 2019-02-21 | 171.06     | \n",
       "\n",
       "\n"
      ],
      "text/plain": [
       "  Date       Close \n",
       "1 2019-02-13 170.18\n",
       "2 2019-02-14 170.80\n",
       "3 2019-02-15 170.42\n",
       "4 2019-02-19 170.93\n",
       "5 2019-02-20 172.03\n",
       "6 2019-02-21 171.06"
      ]
     },
     "metadata": {},
     "output_type": "display_data"
    }
   ],
   "source": [
    "data <- subset(AAPL, select = c(\"Date\", \"Close\"))\n",
    "head(data)"
   ]
  },
  {
   "cell_type": "code",
   "execution_count": 5,
   "metadata": {},
   "outputs": [
    {
     "data": {},
     "metadata": {},
     "output_type": "display_data"
    },
    {
     "data": {
      "image/png": "[encoded data removed]",
      "text/plain": [
       "plot without title"
      ]
     },
     "metadata": {},
     "output_type": "display_data"
    }
   ],
   "source": [
    "options(repr.plot.width = 7, repr.plot.height = 4)\n",
    "ggplot(data = data, aes(x = Date, y = Close, group = 1)) + geom_line(linetype = \"dashed\") + \n",
    "    geom_point() + theme(axis.text.x = element_text(face = \"bold\", angle = 90)) + ggtitle(\"AAPL($)\")"
   ]
  },
  {
   "cell_type": "markdown",
   "metadata": {},
   "source": [
    "-----------------------------------"
   ]
  },
  {
   "cell_type": "markdown",
   "metadata": {},
   "source": [
    "## Naive Method\n",
    "\n",
    "This method is extremely simple, but unreliable. The naive methods relies on the assumption that the next step in the time series is the same as the previous step. i.e:\n",
    "$$ \\; \\; \\; \\;\\; \\; y_{t+1} = y_t $$ thus giving us;\n",
    "$$=>y_{t+h} = y_t $$\n",
    "As is apparent, this method is inefficient when making long range forecasts. An R implementation of this is given below.\n",
    "\n"
   ]
  },
  {
   "cell_type": "code",
   "execution_count": 6,
   "metadata": {},
   "outputs": [],
   "source": [
    "# We define a function for Naive prediction.\n",
    "naive_pred <- function(y, h){\n",
    "    size <- dim(y)\n",
    "    value <- size[1]\n",
    "   \n",
    "    # Extract the price values\n",
    "    y_val = y[,2]\n",
    "    k = c()\n",
    "    \n",
    "    for (i in 1:h) {\n",
    "        k[i] = y[value, 2]        \n",
    "    }\n",
    "    y_val <- append(y_val, k)\n",
    "    return (y_val)\n",
    "}"
   ]
  },
  {
   "cell_type": "markdown",
   "metadata": {},
   "source": [
    "We use the function defined for h = 5."
   ]
  },
  {
   "cell_type": "code",
   "execution_count": 7,
   "metadata": {},
   "outputs": [
    {
     "data": {
      "image/png": "[encoded data removed]",
      "text/plain": [
       "Plot with title “Naive Method”"
      ]
     },
     "metadata": {},
     "output_type": "display_data"
    }
   ],
   "source": [
    "options(repr.plot.width = 6, repr.plot.height = 4)\n",
    "plot(naive_pred(data, 5), ylab = \"Value\", main = \"Naive Method\")"
   ]
  },
  {
   "cell_type": "markdown",
   "metadata": {},
   "source": [
    "It can be seen that \"naive\" method is not apt for long term forecasts. "
   ]
  },
  {
   "cell_type": "markdown",
   "metadata": {},
   "source": [
    "----------------------------------"
   ]
  },
  {
   "cell_type": "markdown",
   "metadata": {},
   "source": [
    "## Average Method "
   ]
  },
  {
   "cell_type": "markdown",
   "metadata": {},
   "source": [
    "In this method we simply take the average of the past values and use it to obtain the forecast for the future *h* values. Simply put; \n",
    "$$y_{t+h} = \\frac{\\sum{y_i}}{T}$$.\n",
    "\n",
    "This method too, is unreliable.\n",
    "An R implementation of this is given below. "
   ]
  },
  {
   "cell_type": "code",
   "execution_count": 8,
   "metadata": {},
   "outputs": [],
   "source": [
    "# We define a function for Average prediction.\n",
    "avg_pred <- function(y, h){\n",
    "    \n",
    "    size <- dim(y)\n",
    "    \n",
    "    # Extract the price values\n",
    "    y_val = y[,2]\n",
    "    val = sum(y_val)/size[1]\n",
    "    \n",
    "    q <- c()\n",
    "    for (i in 1:h) {\n",
    "        q[i] = val     \n",
    "    }\n",
    "    y_val <- append(y_val, q)\n",
    "    return (y_val)\n",
    "}"
   ]
  },
  {
   "cell_type": "code",
   "execution_count": 9,
   "metadata": {},
   "outputs": [
    {
     "data": {
      "image/png": "[encoded data removed]",
      "text/plain": [
       "Plot with title “Average Method”"
      ]
     },
     "metadata": {},
     "output_type": "display_data"
    }
   ],
   "source": [
    "options(repr.plot.width = 6, repr.plot.height = 4)\n",
    "plot(avg_pred(data, 5), ylab = \"Value\", main = \"Average Method\")"
   ]
  },
  {
   "cell_type": "markdown",
   "metadata": {},
   "source": [
    "In this case, we observe that using the average of the previous values gives us a lower forecast value than the naive method. "
   ]
  },
  {
   "cell_type": "markdown",
   "metadata": {},
   "source": [
    "------------------------------------"
   ]
  },
  {
   "cell_type": "markdown",
   "metadata": {},
   "source": [
    "## Drift Method"
   ]
  },
  {
   "cell_type": "markdown",
   "metadata": {},
   "source": [
    "A variation on the naive method is to allow the forecasts to increase or decrease over time, where the amount of change over time (called the drift) is set to be the average change seen in the historical data. \n",
    "\n",
    "The forecast for *t+h* is given by:\n",
    "$$y_{t+h} = y_t + h\\bigg(\\frac{y_t - y_1}{T-1} \\bigg)$$\n",
    "\n",
    "This is equivalent to drawing a line between the first and the last points of the time series and maintaining the trend. The R implementation of this is shown below. "
   ]
  },
  {
   "cell_type": "code",
   "execution_count": 10,
   "metadata": {
    "code_folding": []
   },
   "outputs": [],
   "source": [
    "# We define a function for Drift prediction.\n",
    "drift_pred <- function(y, h){\n",
    "    \n",
    "    size <- dim(y)\n",
    "    \n",
    "    # Extract the price values\n",
    "    y_val = y[,2]\n",
    "    value = y_val[size[1]]\n",
    "    \n",
    "    q <- c()\n",
    "    for (i in 1:h) {\n",
    "        # Define the equation of the line\n",
    "        pred = value + h*((value - y_val[1])/(size[1] - 1))\n",
    "        q[i] = pred\n",
    "        value = pred\n",
    "    }\n",
    "    y_val <- append(y_val, q)\n",
    "    return (y_val)\n",
    "}"
   ]
  },
  {
   "cell_type": "code",
   "execution_count": 11,
   "metadata": {
    "scrolled": false
   },
   "outputs": [
    {
     "data": {
      "image/png": "[encoded data removed]",
      "text/plain": [
       "Plot with title “Drift Method”"
      ]
     },
     "metadata": {},
     "output_type": "display_data"
    }
   ],
   "source": [
    "options(repr.plot.width = 6, repr.plot.height = 4)\n",
    "plot(drift_pred(data, 5), ylab = \"Value\", main = \"Drift Method\")"
   ]
  },
  {
   "cell_type": "markdown",
   "metadata": {},
   "source": [
    "____________________"
   ]
  },
  {
   "cell_type": "markdown",
   "metadata": {},
   "source": [
    "## Concluding Note"
   ]
  },
  {
   "cell_type": "markdown",
   "metadata": {},
   "source": [
    "In this notebook we have demonstrated some really simple methods to forecast a given time series. Advanced methods like AR, MA, ARMA etc will be demonstrated in another notebook.\n",
    "\n",
    "\n",
    "### References\n",
    "1. Hyndman, R.J., & Athanasopoulos, G. (2018) Forecasting: principles and practice, 2nd edition, OTexts: Melbourne, Australia. \n"
   ]
  }
 ],
 "metadata": {
  "kernelspec": {
   "display_name": "R",
   "language": "R",
   "name": "ir"
  },
  "language_info": {
   "codemirror_mode": "r",
   "file_extension": ".r",
   "mimetype": "text/x-r-source",
   "name": "R",
   "pygments_lexer": "r",
   "version": "3.5.1"
  },
  "toc": {
   "base_numbering": 1,
   "nav_menu": {
    "height": "111px",
    "width": "238px"
   },
   "number_sections": false,
   "sideBar": true,
   "skip_h1_title": false,
   "title_cell": "Table of Contents",
   "title_sidebar": "Contents",
   "toc_cell": false,
   "toc_position": {
    "height": "calc(100% - 180px)",
    "left": "10px",
    "top": "150px",
    "width": "181px"
   },
   "toc_section_display": true,
   "toc_window_display": false
  }
 },
 "nbformat": 4,
 "nbformat_minor": 2
}
